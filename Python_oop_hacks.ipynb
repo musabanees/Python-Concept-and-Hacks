{
 "cells": [
  {
   "cell_type": "markdown",
   "id": "b99444b5-7843-41ee-bae7-f30fd58ed02e",
   "metadata": {},
   "source": [
    "# 📌 Definition of `@classmethod` and `cls`\n",
    "\n",
    "> A **class method** in Python is a method that is bound to the class itself, not an individual instance of the class. It is declared with the `@classmethod` decorator.  \n",
    ">  \n",
    "> - Instead of taking `self` (the current object instance) as its first argument, a class method takes `cls`, which represents the class object.  \n",
    "> - Because it has access to `cls`, a class method can create and return **new instances of the class** (or subclasses), without needing an existing instance first.  \n",
    "> - Class methods are most often used as **alternative constructors** — convenient factory methods that let you build instances from external data sources (e.g., strings, JSON files, YAML configs, database records).  \n",
    ">  \n",
    "> `cls` ensures the method remains **inheritance‑friendly**: if a subclass calls the method, it will return an instance of the subclass, not just the parent class.  \n",
    ">  \n",
    "> In contrast:  \n",
    "> - **Instance methods (`def method(self)`):** operate on an already-created object.  \n",
    "> - **Static methods (`@staticmethod`):** don’t receive `self` or `cls`; they are just regular functions inside the class namespace.\n",
    "\n",
    "---"
   ]
  },
  {
   "cell_type": "markdown",
   "id": "277c39bb",
   "metadata": {},
   "source": [
    "## Example: A User class with an alternative constructor"
   ]
  },
  {
   "cell_type": "code",
   "execution_count": 2,
   "id": "a1d3fa90",
   "metadata": {},
   "outputs": [],
   "source": [
    "from datetime import datetime\n",
    "\n",
    "class User:\n",
    "    def __init__(self, username: str, joined: datetime):\n",
    "        self.username = username\n",
    "        self.joined = joined\n",
    "\n",
    "    @classmethod\n",
    "    def from_string(cls, user_string: str) -> \"User\":\n",
    "        \"\"\"\n",
    "        Alternative constructor that builds a User\n",
    "        from a string like 'alice,2024-01-10'\n",
    "        \"\"\"\n",
    "        username, date_str = user_string.split(\",\")\n",
    "        joined = datetime.fromisoformat(date_str)\n",
    "        return cls(username, joined)\n",
    "\n",
    "    def __repr__(self):\n",
    "        return f\"User(username={self.username!r}, joined={self.joined.date()!s})\""
   ]
  },
  {
   "cell_type": "code",
   "execution_count": 3,
   "id": "019f5b01",
   "metadata": {},
   "outputs": [
    {
     "name": "stdout",
     "output_type": "stream",
     "text": [
      "User(username='bob', joined=2024-02-10)\n",
      "User(username='alice', joined=2024-01-10)\n"
     ]
    }
   ],
   "source": [
    "# Regular way: call constructor directly\n",
    "u1 = User(\"bob\", datetime(2024, 2, 10))\n",
    "\n",
    "# Alternative way: use the classmethod from_string\n",
    "u2 = User.from_string(\"alice,2024-01-10\")\n",
    "\n",
    "print(u1)\n",
    "print(u2)"
   ]
  }
 ],
 "metadata": {
  "kernelspec": {
   "display_name": "Python 3 (ipykernel)",
   "language": "python",
   "name": "python3"
  },
  "language_info": {
   "codemirror_mode": {
    "name": "ipython",
    "version": 3
   },
   "file_extension": ".py",
   "mimetype": "text/x-python",
   "name": "python",
   "nbconvert_exporter": "python",
   "pygments_lexer": "ipython3",
   "version": "3.12.10"
  }
 },
 "nbformat": 4,
 "nbformat_minor": 5
}
